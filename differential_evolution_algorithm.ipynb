{
  "nbformat": 4,
  "nbformat_minor": 0,
  "metadata": {
    "colab": {
      "provenance": []
    },
    "kernelspec": {
      "name": "python3",
      "display_name": "Python 3"
    },
    "language_info": {
      "name": "python"
    }
  },
  "cells": [
    {
      "cell_type": "code",
      "execution_count": null,
      "metadata": {
        "colab": {
          "base_uri": "https://localhost:8080/"
        },
        "id": "_b5KOGuhBiOA",
        "outputId": "3b054044-a9e4-453b-b1a6-bf1fcab0dc14"
      },
      "outputs": [
        {
          "output_type": "stream",
          "name": "stdout",
          "text": [
            "Population:[[-3, -5], [0, -6], [1, -2], [-3, -8], [-10, 8]] \n",
            " \n",
            "\n",
            "X1= [-3, -5]\n",
            "V1= [ 1. -2.]\n",
            "\n",
            "Let Random Numbers are: r10.47 and r2= 0.7\n",
            "As r1 < cr, will choose value from Random vector V\n",
            "As r2 > cr, will choose value from candidate vector X\n",
            "\n",
            "U1= [1.0, -5]\n",
            "Offspring Fitness=-105.0, Parent Fitness= 255.0\n",
            "Offspring will be Evolved in next population\n",
            "\n",
            "\n",
            "\n",
            "X2= [0, -6]\n",
            "V2= [-12.   5.]\n",
            "\n",
            "Let Random Numbers are: r10.67 and r2= 0.59\n",
            "As r1 > cr, will choose value from candidate vector X\n",
            "As r2 > cr, will choose value from candidate vector X\n",
            "\n",
            "U2= [0, -6]\n",
            "Offspring Fitness=0.0, Parent Fitness= 0.0\n",
            "Parent will be Evolved in next population\n",
            "\n",
            "\n",
            "\n",
            "X3= [1, -2]\n",
            "V3= [-1.5 -8.5]\n",
            "\n",
            "Let Random Numbers are: r10.65 and r2= 0.37\n",
            "As r1 > cr, will choose value from candidate vector X\n",
            "As r2 < cr, will choose value from Random vector V\n",
            "\n",
            "U3= [1, -8.5]\n",
            "Offspring Fitness=-267.75, Parent Fitness= -24.0\n",
            "Offspring will be Evolved in next population\n",
            "\n",
            "\n",
            "\n",
            "X4= [-3, -8]\n",
            "V4= [ 1. -2.]\n",
            "\n",
            "Let Random Numbers are: r10.65 and r2= 0.71\n",
            "As r1 > cr, will choose value from candidate vector X\n",
            "As r2 > cr, will choose value from candidate vector X\n",
            "\n",
            "U4= [-3, -8]\n",
            "Offspring Fitness=624.0, Parent Fitness= 624.0\n",
            "Parent will be Evolved in next population\n",
            "\n",
            "\n",
            "\n",
            "X5= [-10, 8]\n",
            "V5= [-1. -2.]\n",
            "\n",
            "Let Random Numbers are: r10.39 and r2= 0.86\n",
            "As r1 < cr, will choose value from Random vector V\n",
            "As r2 > cr, will choose value from candidate vector X\n",
            "\n",
            "U5= [-1.0, 8]\n",
            "Offspring Fitness=160.0, Parent Fitness= 2320.0\n",
            "Offspring will be Evolved in next population\n",
            "\n",
            "\n",
            "\n"
          ]
        }
      ],
      "source": [
        "import numpy as np\n",
        "import random\n",
        "\n",
        "cr=0.5\n",
        "cf=0.5\n",
        "def calculate_fitness(x,y):\n",
        "   \n",
        "  f=float(((x**2)*y)+(5.0*x*y)-(3.0*x*(y**2)))\n",
        "  return f\n",
        "\n",
        "X=[]\n",
        "lst=range(-10,10)\n",
        "for i in range(5):\n",
        "  xx=lst[i]\n",
        "  possible_populations =random.choices([v for v in lst if v != xx], weights=None, cum_weights=None, k=2)\n",
        "  x=possible_populations[0]\n",
        "  y=possible_populations[1] \n",
        "  X.append([int(x),int(y)])\n",
        "print(f'Population:{X} \\n \\n') \n",
        "\n",
        "i=len(X)\n",
        "n=0\n",
        "for pop in X:\n",
        "   n=n+1\n",
        "   print(f'X{n}= {pop}')\n",
        "   possible_choices =random.choices([v for v in X if v != pop], weights=None, cum_weights=None, k=3)\n",
        "   possible_choice1=np.array(possible_choices[0])\n",
        "   possible_choice2=np.array(possible_choices[1])\n",
        "   possible_choice3=np.array(possible_choices[2])\n",
        "\n",
        "   V= np.array( possible_choice1 + (cr* (np.subtract(possible_choice2 , possible_choice3 ))))\n",
        "   print(f'V{n}= {V}')\n",
        "\n",
        "   r=[]\n",
        "   #r=r.astype(np.float)\n",
        "   U=[]\n",
        "   for i in range(2):\n",
        "     r.append(random.uniform(0, 1))\n",
        "   \n",
        "   print(f'\\nLet Random Numbers are: r1{round(r[0],2)} and r2= {round(r[1],2)}')\n",
        "     \n",
        "\n",
        "   for i in range(2):\n",
        "     if(r[i]<cr):\n",
        "        U.append(V[i])\n",
        "        print(f\"As r{i+1} < cr, will choose value from Random vector V\")\n",
        "     else:\n",
        "        U.append(pop[i]) \n",
        "        print(f\"As r{i+1} > cr, will choose value from candidate vector X\")\n",
        "\n",
        "   print(f'\\nU{n}= {U}')\n",
        "   offspring_fitness=calculate_fitness(U[0],U[1])\n",
        "   parent_fitness=calculate_fitness(pop[0],pop[1])\n",
        "\n",
        "   print(f'Offspring Fitness={offspring_fitness}, Parent Fitness= {parent_fitness}')\n",
        "   if(offspring_fitness < parent_fitness):\n",
        "     print(f\"Offspring will be Evolved in next population\")\n",
        "   else:\n",
        "     print(f\"Parent will be Evolved in next population\")\n",
        "\n",
        "   print(\"\\n\\n\")\n",
        "\n",
        "   #print(f'V={V}, random choices={possible_choice1},{possible_choice2} , U={U}', )\n",
        "   \n",
        "\n",
        "\n"
      ]
    },
    {
      "cell_type": "code",
      "source": [],
      "metadata": {
        "colab": {
          "base_uri": "https://localhost:8080/",
          "height": 304
        },
        "id": "LXP_eydijygr",
        "outputId": "1123ea10-5895-41c1-b88e-ffdeb2fad394"
      },
      "execution_count": null,
      "outputs": [
        {
          "output_type": "stream",
          "name": "stdout",
          "text": [
            "Population:[[3.0, -8.0], [2.0, -1.0], [-5.0, 0.0], [-9.0, 5.0], [9.0, -4.0]] \n",
            " \n",
            "\n",
            "choises[[9.0, -4.0], [9.0, -4.0], [-9.0, 5.0]]\n"
          ]
        },
        {
          "output_type": "error",
          "ename": "AttributeError",
          "evalue": "ignored",
          "traceback": [
            "\u001b[0;31m---------------------------------------------------------------------------\u001b[0m",
            "\u001b[0;31mAttributeError\u001b[0m                            Traceback (most recent call last)",
            "\u001b[0;32m<ipython-input-32-d61f5d6d0de8>\u001b[0m in \u001b[0;36m<module>\u001b[0;34m\u001b[0m\n\u001b[1;32m     40\u001b[0m    \u001b[0mpossible_choice3\u001b[0m\u001b[0;34m=\u001b[0m\u001b[0mpossible_choices\u001b[0m\u001b[0;34m[\u001b[0m\u001b[0;36m2\u001b[0m\u001b[0;34m]\u001b[0m\u001b[0;34m\u001b[0m\u001b[0;34m\u001b[0m\u001b[0m\n\u001b[1;32m     41\u001b[0m \u001b[0;34m\u001b[0m\u001b[0m\n\u001b[0;32m---> 42\u001b[0;31m    \u001b[0mV\u001b[0m\u001b[0;34m=\u001b[0m \u001b[0mnp\u001b[0m\u001b[0;34m.\u001b[0m\u001b[0marray\u001b[0m\u001b[0;34m(\u001b[0m \u001b[0mnp\u001b[0m\u001b[0;34m.\u001b[0m\u001b[0marray\u001b[0m\u001b[0;34m(\u001b[0m\u001b[0mpossible_choices\u001b[0m\u001b[0;34m[\u001b[0m\u001b[0;36m0\u001b[0m\u001b[0;34m]\u001b[0m\u001b[0;34m)\u001b[0m \u001b[0;34m+\u001b[0m \u001b[0;34m(\u001b[0m\u001b[0mF\u001b[0m\u001b[0;34m*\u001b[0m \u001b[0mfloat\u001b[0m\u001b[0;34m(\u001b[0m\u001b[0;34m(\u001b[0m\u001b[0mnp\u001b[0m\u001b[0;34m.\u001b[0m\u001b[0msubtract\u001b[0m\u001b[0;34m(\u001b[0m\u001b[0mnp\u001b[0m\u001b[0;34m.\u001b[0m\u001b[0marray\u001b[0m\u001b[0;34m(\u001b[0m\u001b[0mpossible_choices\u001b[0m\u001b[0;34m[\u001b[0m\u001b[0;36m1\u001b[0m\u001b[0;34m]\u001b[0m\u001b[0;34m)\u001b[0m \u001b[0;34m,\u001b[0m \u001b[0mnp\u001b[0m\u001b[0;34m.\u001b[0m\u001b[0marray\u001b[0m\u001b[0;34m(\u001b[0m\u001b[0mpossible_choices\u001b[0m\u001b[0;34m[\u001b[0m\u001b[0;36m2\u001b[0m\u001b[0;34m]\u001b[0m\u001b[0;34m)\u001b[0m \u001b[0;34m)\u001b[0m\u001b[0;34m)\u001b[0m\u001b[0;34m)\u001b[0m\u001b[0;34m)\u001b[0m\u001b[0;34m)\u001b[0m\u001b[0;34m\u001b[0m\u001b[0;34m\u001b[0m\u001b[0m\n\u001b[0m\u001b[1;32m     43\u001b[0m    \u001b[0mprint\u001b[0m\u001b[0;34m(\u001b[0m\u001b[0;34mf'V{n}= {V}'\u001b[0m\u001b[0;34m)\u001b[0m\u001b[0;34m\u001b[0m\u001b[0;34m\u001b[0m\u001b[0m\n\u001b[1;32m     44\u001b[0m    \u001b[0mr\u001b[0m\u001b[0;34m=\u001b[0m\u001b[0;34m[\u001b[0m\u001b[0;34m]\u001b[0m \u001b[0;31m#random numbers\u001b[0m\u001b[0;34m\u001b[0m\u001b[0;34m\u001b[0m\u001b[0m\n",
            "\u001b[0;31mAttributeError\u001b[0m: 'int' object has no attribute 'array'"
          ]
        }
      ]
    }
  ]
}